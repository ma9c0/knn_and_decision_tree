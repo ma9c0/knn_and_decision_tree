{
 "cells": [
  {
   "cell_type": "code",
   "execution_count": 75,
   "metadata": {},
   "outputs": [],
   "source": [
    "import csv\n",
    "raw_data = []\n",
    "data= []\n",
    "with open('car.csv') as file:\n",
    "    csvreader = csv.reader(file)\n",
    "    for rows in csvreader:\n",
    "        data.append(rows)"
   ]
  },
  {
   "cell_type": "code",
   "execution_count": 76,
   "metadata": {},
   "outputs": [
    {
     "data": {
      "text/plain": [
       "['buying_price',\n",
       " 'maintenance_price',\n",
       " 'number_doors',\n",
       " 'capacity',\n",
       " 'luggage_boot_size',\n",
       " 'safety_level',\n",
       " 'class']"
      ]
     },
     "execution_count": 76,
     "metadata": {},
     "output_type": "execute_result"
    }
   ],
   "source": [
    "data[0]"
   ]
  },
  {
   "cell_type": "code",
   "execution_count": 77,
   "metadata": {},
   "outputs": [
    {
     "name": "stdout",
     "output_type": "stream",
     "text": [
      "[[], [], [], [], [], [], []]\n",
      "[['very_high', 'high', 'medium', 'low'], ['very_high', 'high', 'medium', 'low'], ['two', 'three', 'four', '5_or_more'], ['two', 'four', '5_or_more'], ['small', 'medium', 'large'], ['low', 'medium', 'high'], ['unacceptable', 'acceptable', 'very_good', 'good']]\n"
     ]
    }
   ],
   "source": [
    "#print out all the possible labels\n",
    "labels = []\n",
    "for _ in range(len(data[0])):\n",
    "    labels.append([])\n",
    "    \n",
    "print(labels)\n",
    "\n",
    "for rows in data[1:]:\n",
    "    for i in range(len(rows)):\n",
    "        if rows[i] not in labels[i]:\n",
    "            labels[i].append(rows[i])\n",
    "print(labels)"
   ]
  },
  {
   "cell_type": "code",
   "execution_count": 78,
   "metadata": {},
   "outputs": [],
   "source": [
    "names = data[0]"
   ]
  },
  {
   "cell_type": "code",
   "execution_count": 79,
   "metadata": {},
   "outputs": [
    {
     "data": {
      "text/plain": [
       "['buying_price',\n",
       " 'maintenance_price',\n",
       " 'number_doors',\n",
       " 'capacity',\n",
       " 'luggage_boot_size',\n",
       " 'safety_level',\n",
       " 'class']"
      ]
     },
     "execution_count": 79,
     "metadata": {},
     "output_type": "execute_result"
    }
   ],
   "source": [
    "names"
   ]
  },
  {
   "cell_type": "code",
   "execution_count": 80,
   "metadata": {},
   "outputs": [],
   "source": [
    "#part a: shuffle the data without labels\n",
    "data = data[1:]\n",
    "from sklearn.utils import shuffle\n",
    "data = shuffle(data)"
   ]
  },
  {
   "cell_type": "code",
   "execution_count": 81,
   "metadata": {},
   "outputs": [],
   "source": [
    "#(b)split the data\n",
    "from sklearn.model_selection import train_test_split\n",
    "train, test = train_test_split(data, test_size = 0.2, train_size = 0.8)"
   ]
  },
  {
   "cell_type": "markdown",
   "metadata": {},
   "source": [
    "0/1/2/3/4/5/6\n",
    "for example its 3\n",
    "3, \n",
    "[ 0, 1, 2, 3, 4]\n",
    "[[],[],[],[],[]]"
   ]
  },
  {
   "cell_type": "code",
   "execution_count": 82,
   "metadata": {},
   "outputs": [],
   "source": [
    "#total of 6 labels, split into 4 datasets, for each split more,... \n",
    "#part c: decision tree implementation\n",
    "\n",
    "from math import log2, inf\n",
    "#get information gain\n",
    "def info_gain(parent_data, split_index):\n",
    "    \n",
    "    split_label = labels[split_index]\n",
    "    splits = []\n",
    "    splited_child_entropy_sum = []\n",
    "    for _ in range(len(split_label)):\n",
    "        splits.append([])\n",
    "        splited_child_entropy_sum.append([0,0,0,0])\n",
    "    \n",
    "    result_label_sum = [0,0,0,0]\n",
    "    for rows in parent_data:\n",
    "        #child entropy for each instances of the split\n",
    "        for x in range(len(split_label)):\n",
    "            if rows[split_index] == split_label[x]:\n",
    "                splits[x].append(rows)\n",
    "                for i in range(len(splited_child_entropy_sum)):\n",
    "                    if rows[-1] == labels[-1][i]:\n",
    "                        splited_child_entropy_sum[x][i] += 1\n",
    "                        break\n",
    "                break\n",
    "            \n",
    "        \n",
    "        \n",
    "        #parent entropy sum calculation\n",
    "        for i in range(len(result_label_sum)):\n",
    "            if rows[-1] == labels[-1][i]:\n",
    "                result_label_sum[i] += 1\n",
    "                break\n",
    "            \n",
    "    parent_entropy = 0\n",
    "    total_values_in_parent_data = len(parent_data)\n",
    "    for i in result_label_sum:\n",
    "        parent_entropy += -1 * i / total_values_in_parent_data * log2(i/total_values_in_parent_data) if i != 0 else 0\n",
    "       \n",
    "    # return splited_child_entropy_sum \n",
    "    #child entropy\n",
    "    child_entropy = 0\n",
    "    for n in range(len(split_label)):\n",
    "        I = 0\n",
    "        for m in splited_child_entropy_sum[n]:\n",
    "            I += -1 * m / len(splits[n]) * log2(m / len(splits[n])) if m != 0 else 0\n",
    "        child_entropy += len(splits[n])/len(parent_data)*I\n",
    "            \n",
    "    return parent_entropy - child_entropy, splits\n",
    "\n",
    "#get the split_index based on whichever index has the most information gain\n",
    "def get_split_index(parent_data, available_labels):\n",
    "    max_info = -inf\n",
    "    best_split_index = -1\n",
    "    best_splits = []\n",
    "\n",
    "    for feature_index in available_labels:\n",
    "        if feature_index == -1:\n",
    "            # Feature was already used\n",
    "            continue\n",
    "        info, candidate_splits = info_gain(parent_data, feature_index)\n",
    "        if info > max_info:\n",
    "            max_info = info\n",
    "            best_split_index = feature_index\n",
    "            best_splits = candidate_splits\n",
    "\n",
    "    return best_split_index, best_splits, max_info\n"
   ]
  },
  {
   "cell_type": "code",
   "execution_count": 83,
   "metadata": {},
   "outputs": [],
   "source": [
    "class Node:\n",
    "    def __init__(self, data):\n",
    "        self.data = data\n",
    "        self.children = []\n",
    "    def add_child(self, child):\n",
    "        self.children.append(child)"
   ]
  },
  {
   "cell_type": "code",
   "execution_count": 84,
   "metadata": {},
   "outputs": [],
   "source": [
    "def majority_label(data_subset):\n",
    "    label_counts = {}\n",
    "    for row in data_subset:\n",
    "        label_counts[row[-1]] = label_counts.get(row[-1], 0) + 1\n",
    "    return max(label_counts, key=label_counts.get)"
   ]
  },
  {
   "cell_type": "code",
   "execution_count": 85,
   "metadata": {},
   "outputs": [],
   "source": [
    "def build_decision_tree(remaining_labels, parent_data):\n",
    "    \n",
    "    #stopping criteria\n",
    "    if len(parent_data) == 0:\n",
    "        return Node('no data in the split')\n",
    "    \n",
    "    if all(remaining_labels) == -1:\n",
    "        return Node(majority_label(parent_data))\n",
    "    \n",
    "    potential_label = parent_data[0][-1]\n",
    "    if all(row[-1] == potential_label for row in parent_data):\n",
    "        leaf_node = Node(potential_label)\n",
    "        return leaf_node\n",
    "            \n",
    "    split_index, splits, info = get_split_index(parent_data, remaining_labels)\n",
    "    \n",
    "    if info <= 0:\n",
    "        return Node(majority_label(parent_data))\n",
    "    \n",
    "    node = Node(names[split_index])\n",
    "    \n",
    "    new_remaining_labels = remaining_labels[:]\n",
    "    new_remaining_labels[split_index] = -1\n",
    "    \n",
    "    for split in splits:\n",
    "        child_subtree = build_decision_tree(new_remaining_labels, split)\n",
    "        if child_subtree is not None:\n",
    "            node.add_child(child_subtree)\n",
    "        else:\n",
    "            node.add_child(Node(majority_label(parent_data)))\n",
    "    \n",
    "    return node"
   ]
  },
  {
   "cell_type": "code",
   "execution_count": 86,
   "metadata": {},
   "outputs": [],
   "source": [
    "res = build_decision_tree([0,1,2,3,4],train)"
   ]
  },
  {
   "cell_type": "code",
   "execution_count": 87,
   "metadata": {},
   "outputs": [],
   "source": [
    "def predict(row, node):\n",
    "    if not node.children:  \n",
    "        return node.data\n",
    "\n",
    "    feature_name = node.data\n",
    "    feature_index = names.index(feature_name)\n",
    "    feature_value = row[feature_index]\n",
    "    possible_values = labels[feature_index]\n",
    "    if feature_value not in possible_values:\n",
    "        return node.data\n",
    "    child_idx = possible_values.index(feature_value)\n",
    "    if child_idx >= len(node.children):\n",
    "        return node.data\n",
    "    return predict(row, node.children[child_idx])\n"
   ]
  },
  {
   "cell_type": "code",
   "execution_count": 88,
   "metadata": {},
   "outputs": [],
   "source": [
    "#Q2.1\n",
    "from sklearn.utils import shuffle\n",
    "import csv\n",
    "from sklearn.model_selection import train_test_split\n",
    "from math import log2, inf\n",
    "\n",
    "def train_and_test():\n",
    "    data= []\n",
    "    with open('car.csv') as file:\n",
    "        csvreader = csv.reader(file)\n",
    "        for rows in csvreader:\n",
    "            data.append(rows)\n",
    "            \n",
    "    labels = []\n",
    "    for _ in range(len(data[0])):\n",
    "        labels.append([])\n",
    "        \n",
    "    for rows in data[1:]:\n",
    "        for i in range(len(rows)):\n",
    "            if rows[i] not in labels[i]:\n",
    "                labels[i].append(rows[i])\n",
    "                \n",
    "    names = data[0]\n",
    "\n",
    "    data = data[1:]\n",
    "    data = shuffle(data)\n",
    "\n",
    "    train, test = train_test_split(data, test_size = 0.2, train_size = 0.8)\n",
    "\n",
    "    #get information gain\n",
    "    def info_gain(parent_data, split_index):\n",
    "        \n",
    "        split_label = labels[split_index]\n",
    "        splits = []\n",
    "        splited_child_entropy_sum = []\n",
    "        for _ in range(len(split_label)):\n",
    "            splits.append([])\n",
    "            splited_child_entropy_sum.append([0,0,0,0])\n",
    "        \n",
    "        result_label_sum = [0,0,0,0]\n",
    "        for rows in parent_data:\n",
    "            #child entropy for each instances of the split\n",
    "            for x in range(len(split_label)):\n",
    "                if rows[split_index] == split_label[x]:\n",
    "                    splits[x].append(rows)\n",
    "                    for i in range(len(splited_child_entropy_sum)):\n",
    "                        if rows[-1] == labels[-1][i]:\n",
    "                            splited_child_entropy_sum[x][i] += 1\n",
    "                            break\n",
    "                    break\n",
    "                \n",
    "            \n",
    "            \n",
    "            #parent entropy sum calculation\n",
    "            for i in range(len(result_label_sum)):\n",
    "                if rows[-1] == labels[-1][i]:\n",
    "                    result_label_sum[i] += 1\n",
    "                    break\n",
    "                \n",
    "        parent_entropy = 0\n",
    "        total_values_in_parent_data = len(parent_data)\n",
    "        for i in result_label_sum:\n",
    "            parent_entropy += -1 * i / total_values_in_parent_data * log2(i/total_values_in_parent_data) if i != 0 else 0\n",
    "        \n",
    "        #child entropy\n",
    "        child_entropy = 0\n",
    "        for n in range(len(split_label)):\n",
    "            I = 0\n",
    "            for m in splited_child_entropy_sum[n]:\n",
    "                I += -1 * m / len(splits[n]) * log2(m / len(splits[n])) if m != 0 else 0\n",
    "            child_entropy += len(splits[n])/len(parent_data)*I\n",
    "            \n",
    "        #GINI version\n",
    "        child_entropy = 0\n",
    "        for n in range(len(split_label)):\n",
    "            I = 1\n",
    "            for m in splited_child_entropy_sum[n]:\n",
    "                I -= (m / len(splits[n]))**2 if len(splits[n]) != 0 else 0\n",
    "            child_entropy += len(splits[n])/len(parent_data)*I\n",
    "        return child_entropy, splits   \n",
    "    \n",
    "        # return parent_entropy - child_entropy, splits\n",
    "\n",
    "    #get the split_index based on whichever index has the most information gain\n",
    "    def get_split_index(parent_data, available_labels):\n",
    "        max_info = -inf\n",
    "        best_split_index = -1\n",
    "        best_splits = []\n",
    "\n",
    "        for feature_index in available_labels:\n",
    "            if feature_index == -1:\n",
    "                # Feature was already used\n",
    "                continue\n",
    "            # info, candidate_splits = info_gain(parent_data, feature_index)\n",
    "            # if info > max_info:\n",
    "            #     max_info = info\n",
    "            #     best_split_index = feature_index\n",
    "            #     best_splits = candidate_splits\n",
    "            # GINI VERSION\n",
    "            max_info = inf\n",
    "            info, candidate_splits = info_gain(parent_data, feature_index)\n",
    "            if info < max_info:\n",
    "                max_info = info\n",
    "                best_split_index = feature_index\n",
    "                best_splits = candidate_splits\n",
    "\n",
    "        return best_split_index, best_splits, max_info\n",
    "\n",
    "    class Node:\n",
    "        def __init__(self, data):\n",
    "            self.data = data\n",
    "            self.children = []\n",
    "        def add_child(self, child):\n",
    "            self.children.append(child)\n",
    "            \n",
    "    def majority_label(data_subset):\n",
    "        label_counts = {}\n",
    "        for row in data_subset:\n",
    "            label_counts[row[-1]] = label_counts.get(row[-1], 0) + 1\n",
    "        return max(label_counts, key=label_counts.get)\n",
    "    \n",
    "    def build_decision_tree(remaining_labels, parent_data, depth):\n",
    "    \n",
    "        #stopping criteria\n",
    "        if len(parent_data) == 0:\n",
    "            return Node('no data in the split')\n",
    "        \n",
    "        if all(remaining_labels) == -1:\n",
    "            return Node(majority_label(parent_data))\n",
    "        \n",
    "        # label_counts = {}\n",
    "        # for row in parent_data:\n",
    "        #     label_counts[row[-1]] = label_counts.get(row[-1], 0) + 1\n",
    "\n",
    "        # max_label = max(label_counts, key=label_counts.get)\n",
    "        # max_count = label_counts[max_label]\n",
    "\n",
    "        # if max_count / len(parent_data) >= 0.85:\n",
    "        #     return Node(max_label)\n",
    "        \n",
    "        potential_label = parent_data[0][-1]\n",
    "        if all(row[-1] == potential_label for row in parent_data):\n",
    "            leaf_node = Node(potential_label)\n",
    "            return leaf_node\n",
    "                \n",
    "        split_index, splits, info = get_split_index(parent_data, remaining_labels)\n",
    "        \n",
    "        if info <= 0:\n",
    "            return Node(majority_label(parent_data))\n",
    "        \n",
    "        node = Node(names[split_index])\n",
    "        \n",
    "        new_remaining_labels = remaining_labels[:]\n",
    "        new_remaining_labels[split_index] = -1\n",
    "        \n",
    "        for split in splits:\n",
    "            child_subtree = build_decision_tree(new_remaining_labels, split, depth + 1)\n",
    "            if child_subtree is not None:\n",
    "                node.add_child(child_subtree)\n",
    "            else:\n",
    "                node.add_child(Node(majority_label(parent_data)))\n",
    "        \n",
    "        return node\n",
    "\n",
    "    decision_tree = build_decision_tree([0,1,2,3,4,5],train, 0)\n",
    "\n",
    "    def predict(row, node):\n",
    "        if not node.children:  \n",
    "            return node.data\n",
    "\n",
    "        feature_name = node.data\n",
    "        feature_index = names.index(feature_name)\n",
    "        feature_value = row[feature_index]\n",
    "        possible_values = labels[feature_index]\n",
    "        if feature_value not in possible_values:\n",
    "            return node.data\n",
    "        child_idx = possible_values.index(feature_value)\n",
    "        if child_idx >= len(node.children):\n",
    "            return node.data\n",
    "        return predict(row, node.children[child_idx])\n",
    "    \n",
    "    train_co , test_co = 0,0\n",
    "    for row in train:\n",
    "        prediction = predict(row, decision_tree)\n",
    "        actual = row[-1]\n",
    "        if prediction == actual:\n",
    "            train_co += 1\n",
    "\n",
    "    train_accuracy = train_co / len(train)\n",
    "        \n",
    "    for row in test:\n",
    "        prediction = predict(row, decision_tree)\n",
    "        actual = row[-1]\n",
    "        if prediction == actual:\n",
    "            test_co += 1\n",
    "\n",
    "    test_accuracy = test_co / len(test)\n",
    "    \n",
    "    if test_accuracy > 1.0 or train_accuracy > 1.0:\n",
    "        print('ur genius')\n",
    "        \n",
    "    return train_accuracy, test_accuracy"
   ]
  },
  {
   "cell_type": "code",
   "execution_count": 89,
   "metadata": {},
   "outputs": [],
   "source": [
    "train_accus, test_accus = [],[]\n",
    "for _ in range(100):\n",
    "    tr, te = train_and_test()\n",
    "    train_accus.append(tr)\n",
    "    test_accus.append(te)"
   ]
  },
  {
   "cell_type": "code",
   "execution_count": 90,
   "metadata": {},
   "outputs": [],
   "source": [
    "import matplotlib.pyplot as plt\n",
    "\n",
    "def draw_graphs(d):\n",
    "    plt.hist(d, edgecolor = 'black')\n",
    "    plt.xlabel(\"Accuracy\")\n",
    "    plt.ylabel(\"Frequency of Accuracy\")\n",
    "    plt.show()\n"
   ]
  },
  {
   "cell_type": "code",
   "execution_count": 91,
   "metadata": {},
   "outputs": [
    {
     "data": {
      "image/png": "[encoded data removed]",
      "text/plain": [
       "<Figure size 640x480 with 1 Axes>"
      ]
     },
     "metadata": {},
     "output_type": "display_data"
    }
   ],
   "source": [
    "draw_graphs(train_accus)"
   ]
  },
  {
   "cell_type": "code",
   "execution_count": 92,
   "metadata": {},
   "outputs": [
    {
     "data": {
      "image/png": "[encoded data removed]",
      "text/plain": [
       "<Figure size 640x480 with 1 Axes>"
      ]
     },
     "metadata": {},
     "output_type": "display_data"
    }
   ],
   "source": [
    "draw_graphs(test_accus)"
   ]
  },
  {
   "cell_type": "code",
   "execution_count": 93,
   "metadata": {},
   "outputs": [
    {
     "name": "stdout",
     "output_type": "stream",
     "text": [
      "mean: 0.7224566473988439\n",
      "std: 0.021517549698713067\n"
     ]
    }
   ],
   "source": [
    "import numpy as np\n",
    "print('mean:', np.mean(test_accus))\n",
    "print('std:', np.std(test_accus))"
   ]
  }
 ],
 "metadata": {
  "kernelspec": {
   "display_name": "Python 3",
   "language": "python",
   "name": "python3"
  },
  "language_info": {
   "codemirror_mode": {
    "name": "ipython",
    "version": 3
   },
   "file_extension": ".py",
   "mimetype": "text/x-python",
   "name": "python",
   "nbconvert_exporter": "python",
   "pygments_lexer": "ipython3",
   "version": "3.12.0"
  }
 },
 "nbformat": 4,
 "nbformat_minor": 2
}
