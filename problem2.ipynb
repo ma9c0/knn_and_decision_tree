{
 "cells": [
  {
   "cell_type": "code",
   "execution_count": 16,
   "metadata": {},
   "outputs": [],
   "source": [
    "import csv\n",
    "raw_data = []\n",
    "data= []\n",
    "with open('car.csv') as file:\n",
    "    csvreader = csv.reader(file)\n",
    "    for rows in csvreader:\n",
    "        data.append(rows)"
   ]
  },
  {
   "cell_type": "code",
   "execution_count": 17,
   "metadata": {},
   "outputs": [
    {
     "data": {
      "text/plain": [
       "['buying_price',\n",
       " 'maintenance_price',\n",
       " 'number_doors',\n",
       " 'capacity',\n",
       " 'luggage_boot_size',\n",
       " 'safety_level',\n",
       " 'class']"
      ]
     },
     "execution_count": 17,
     "metadata": {},
     "output_type": "execute_result"
    }
   ],
   "source": [
    "data[0]"
   ]
  },
  {
   "cell_type": "code",
   "execution_count": 18,
   "metadata": {},
   "outputs": [
    {
     "name": "stdout",
     "output_type": "stream",
     "text": [
      "[[], [], [], [], [], [], []]\n",
      "[['very_high', 'high', 'medium', 'low'], ['very_high', 'high', 'medium', 'low'], ['two', 'three', 'four', '5_or_more'], ['two', 'four', '5_or_more'], ['small', 'medium', 'large'], ['low', 'medium', 'high'], ['unacceptable', 'acceptable', 'very_good', 'good']]\n"
     ]
    }
   ],
   "source": [
    "#print out all the possible labels\n",
    "labels = []\n",
    "for _ in range(len(data[0])):\n",
    "    labels.append([])\n",
    "    \n",
    "print(labels)\n",
    "\n",
    "for rows in data[1:]:\n",
    "    for i in range(len(rows)):\n",
    "        if rows[i] not in labels[i]:\n",
    "            labels[i].append(rows[i])\n",
    "print(labels)"
   ]
  },
  {
   "cell_type": "code",
   "execution_count": 19,
   "metadata": {},
   "outputs": [],
   "source": [
    "names = data[0]"
   ]
  },
  {
   "cell_type": "code",
   "execution_count": 20,
   "metadata": {},
   "outputs": [
    {
     "data": {
      "text/plain": [
       "['buying_price',\n",
       " 'maintenance_price',\n",
       " 'number_doors',\n",
       " 'capacity',\n",
       " 'luggage_boot_size',\n",
       " 'safety_level',\n",
       " 'class']"
      ]
     },
     "execution_count": 20,
     "metadata": {},
     "output_type": "execute_result"
    }
   ],
   "source": [
    "names"
   ]
  },
  {
   "cell_type": "code",
   "execution_count": 21,
   "metadata": {},
   "outputs": [],
   "source": [
    "#part a: shuffle the data without labels\n",
    "data = data[1:]\n",
    "from sklearn.utils import shuffle\n",
    "data = shuffle(data)"
   ]
  },
  {
   "cell_type": "code",
   "execution_count": 22,
   "metadata": {},
   "outputs": [],
   "source": [
    "#(b)split the data\n",
    "from sklearn.model_selection import train_test_split\n",
    "train, test = train_test_split(data, test_size = 0.2, train_size = 0.8)"
   ]
  },
  {
   "cell_type": "markdown",
   "metadata": {},
   "source": [
    "0/1/2/3/4/5/6\n",
    "for example its 3\n",
    "3, \n",
    "[ 0, 1, 2, 3, 4]\n",
    "[[],[],[],[],[]]"
   ]
  },
  {
   "cell_type": "code",
   "execution_count": null,
   "metadata": {},
   "outputs": [],
   "source": [
    "#total of 6 labels, split into 4 datasets, for each split more,... \n",
    "#part c: decision tree implementation\n",
    "\n",
    "from math import log2, inf\n",
    "#get information gain\n",
    "def info_gain(parent_data, split_index):\n",
    "    \n",
    "    split_label = labels[split_index]\n",
    "    splits = []\n",
    "    splited_child_entropy_sum = []\n",
    "    for _ in range(len(split_label)):\n",
    "        splits.append([])\n",
    "        splited_child_entropy_sum.append([0,0,0,0])\n",
    "    \n",
    "    result_label_sum = [0,0,0,0]\n",
    "    for rows in parent_data:\n",
    "        #child entropy for each instances of the split\n",
    "        for x in range(len(split_label)):\n",
    "            if rows[split_index] == split_label[x]:\n",
    "                splits[x].append(rows)\n",
    "                for i in range(len(splited_child_entropy_sum)):\n",
    "                    if rows[-1] == labels[-1][i]:\n",
    "                        splited_child_entropy_sum[x][i] += 1\n",
    "                        break\n",
    "                break\n",
    "            \n",
    "        \n",
    "        \n",
    "        #parent entropy sum calculation\n",
    "        for i in range(len(result_label_sum)):\n",
    "            if rows[-1] == labels[-1][i]:\n",
    "                result_label_sum[i] += 1\n",
    "                break\n",
    "            \n",
    "    parent_entropy = 0\n",
    "    total_values_in_parent_data = len(parent_data)\n",
    "    for i in result_label_sum:\n",
    "        parent_entropy += -1 * i / total_values_in_parent_data * log2(i/total_values_in_parent_data)\n",
    "       \n",
    "    # return splited_child_entropy_sum \n",
    "    #child entropy\n",
    "    child_entropy = 0\n",
    "    for n in range(len(split_label)):\n",
    "        I = 0\n",
    "        for m in splited_child_entropy_sum[n]:\n",
    "            I += -1 * m / len(splits[n]) * log2(m / len(splits[n])) if m != 0 else 0\n",
    "        child_entropy += len(splits[n])/len(parent_data)*I\n",
    "            \n",
    "    return parent_entropy - child_entropy, splits\n",
    "\n",
    "#get the split_index based on whichever index has the most information gain\n",
    "def get_split_index(parent_data):\n",
    "    split_index = -inf\n",
    "    max_info = -inf\n",
    "    for name in range(6):\n",
    "        info, splits = info_gain(parent_data, name)\n",
    "        split_index = name if info > max_info else split_index\n",
    "        \n",
    "    return split_index, splits\n",
    "    \n",
    "result_tree = []\n",
    "for _ in range(len(data[0])-1):\n",
    "    result_tree.append([])\n",
    "    \n",
    "def decision_tree_builder(parent_data):\n",
    "    #stopping criteria\n",
    "    potential_result = parent_data[0][-1]\n",
    "    stop = True \n",
    "    for rows in parent_data:\n",
    "        if rows[-1] != potential_result:\n",
    "            stop = False\n",
    "            break\n",
    "    if stop:\n",
    "        return labels[-1].index(potential_result)\n",
    "    \n",
    "    \n",
    "        \n",
    "    \n",
    "    return 0\n"
   ]
  },
  {
   "cell_type": "code",
   "execution_count": 25,
   "metadata": {},
   "outputs": [
    {
     "data": {
      "text/plain": [
       "[[], [], [], [], [], []]"
      ]
     },
     "execution_count": 25,
     "metadata": {},
     "output_type": "execute_result"
    }
   ],
   "source": [
    "result_tree = []\n",
    "for _ in range(len(data[0])-1):\n",
    "    result_tree.append([])\n",
    "result_tree"
   ]
  }
 ],
 "metadata": {
  "kernelspec": {
   "display_name": "Python 3",
   "language": "python",
   "name": "python3"
  },
  "language_info": {
   "codemirror_mode": {
    "name": "ipython",
    "version": 3
   },
   "file_extension": ".py",
   "mimetype": "text/x-python",
   "name": "python",
   "nbconvert_exporter": "python",
   "pygments_lexer": "ipython3",
   "version": "3.10.13"
  }
 },
 "nbformat": 4,
 "nbformat_minor": 2
}
